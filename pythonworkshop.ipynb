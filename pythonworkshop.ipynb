{
  "nbformat": 4,
  "nbformat_minor": 0,
  "metadata": {
    "colab": {
      "name": "pythonworkshop.ipynb",
      "provenance": [],
      "collapsed_sections": [],
      "authorship_tag": "ABX9TyPcd2cZHazGBc7i/n/KkwUt",
      "include_colab_link": true
    },
    "kernelspec": {
      "name": "python3",
      "display_name": "Python 3"
    },
    "language_info": {
      "name": "python"
    }
  },
  "cells": [
    {
      "cell_type": "markdown",
      "metadata": {
        "id": "view-in-github",
        "colab_type": "text"
      },
      "source": [
        "<a href=\"https://colab.research.google.com/github/devtayade/python_workshop/blob/main/pythonworkshop.ipynb\" target=\"_parent\"><img src=\"https://colab.research.google.com/assets/colab-badge.svg\" alt=\"Open In Colab\"/></a>"
      ]
    },
    {
      "cell_type": "code",
      "execution_count": 27,
      "metadata": {
        "colab": {
          "base_uri": "https://localhost:8080/"
        },
        "id": "xgLu-Vt0jSgs",
        "outputId": "d9d019fe-2160-4da4-952c-fde3bb219aa0"
      },
      "outputs": [
        {
          "output_type": "stream",
          "name": "stdout",
          "text": [
            "['Hello', 'Python']\n"
          ]
        }
      ],
      "source": [
        "\n",
        "\n",
        "my_string1 = \"Hello@Python\"\n",
        "my_string2 = \"Happy new year 2022\"\n",
        "\n",
        "split_str = my_string1.split(\"@\")\n",
        "print(split_str)"
      ]
    }
  ]
}