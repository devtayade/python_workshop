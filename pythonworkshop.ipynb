{
  "nbformat": 4,
  "nbformat_minor": 0,
  "metadata": {
    "colab": {
      "name": "pythonworkshop.ipynb",
      "provenance": [],
      "collapsed_sections": [],
      "authorship_tag": "ABX9TyN8xLbyfn6A3XFrPBxd6MlB"
    },
    "kernelspec": {
      "name": "python3",
      "display_name": "Python 3"
    },
    "language_info": {
      "name": "python"
    }
  },
  "cells": [
    {
      "cell_type": "code",
      "execution_count": 33,
      "metadata": {
        "colab": {
          "base_uri": "https://localhost:8080/"
        },
        "id": "xgLu-Vt0jSgs",
        "outputId": "eb53de5b-679f-4a14-b277-5414f2bb0c9a"
      },
      "outputs": [
        {
          "output_type": "stream",
          "name": "stdout",
          "text": [
            "H\n",
            "e\n",
            "l\n",
            "l\n",
            "o\n",
            " \n",
            "w\n",
            "o\n",
            "r\n",
            "l\n",
            "d\n"
          ]
        }
      ],
      "source": [
        "my_string = \"Hello world\"\n",
        "\n",
        "#if \"new\" in my_string:\n",
        "#   print(\"Yes\")\n",
        "#else:\n",
        " #    print(\"No\")\n",
        "\n",
        "for i in my_string:\n",
        "   print(i)\n"
      ]
    }
  ]
}